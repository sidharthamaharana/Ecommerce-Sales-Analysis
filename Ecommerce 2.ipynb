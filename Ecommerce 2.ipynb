{
 "cells": [
  {
   "cell_type": "code",
   "execution_count": 2,
   "id": "bd2c479a-6d0c-4232-a2b4-3b81e036f24c",
   "metadata": {},
   "outputs": [],
   "source": [
    "import pandas as pd\n",
    "import numpy as np\n",
    "import matplotlib.pyplot as plt\n",
    "import seaborn as sns\n",
    "import datetime\n",
    "\n",
    "import warnings\n",
    "warnings.simplefilter(\"ignore\")"
   ]
  },
  {
   "cell_type": "code",
   "execution_count": 3,
   "id": "cd731877-bb55-4cca-b961-3e85a3688b63",
   "metadata": {},
   "outputs": [],
   "source": [
    "blink = pd.read_excel(r\"E:\\Naresh IT\\Project File\\Data Analysis Project file\\Blinkit\\cleaned_blink.xlsx\")\n",
    "pd.set_option(\"display.max_columns\",None)"
   ]
  },
  {
   "cell_type": "code",
   "execution_count": 4,
   "id": "ae44ae76-2828-41fe-9e65-db03a464f65b",
   "metadata": {},
   "outputs": [
    {
     "data": {
      "text/html": [
       "<div>\n",
       "<style scoped>\n",
       "    .dataframe tbody tr th:only-of-type {\n",
       "        vertical-align: middle;\n",
       "    }\n",
       "\n",
       "    .dataframe tbody tr th {\n",
       "        vertical-align: top;\n",
       "    }\n",
       "\n",
       "    .dataframe thead th {\n",
       "        text-align: right;\n",
       "    }\n",
       "</style>\n",
       "<table border=\"1\" class=\"dataframe\">\n",
       "  <thead>\n",
       "    <tr style=\"text-align: right;\">\n",
       "      <th></th>\n",
       "      <th>Item Fat Content</th>\n",
       "      <th>Item Type</th>\n",
       "      <th>Outlet Establishment Year</th>\n",
       "      <th>Outlet Location Type</th>\n",
       "      <th>Outlet Size</th>\n",
       "      <th>Outlet Type</th>\n",
       "      <th>Sales</th>\n",
       "      <th>Rating</th>\n",
       "    </tr>\n",
       "  </thead>\n",
       "  <tbody>\n",
       "    <tr>\n",
       "      <th>0</th>\n",
       "      <td>Regular</td>\n",
       "      <td>Fruits and Vegetables</td>\n",
       "      <td>2012</td>\n",
       "      <td>Tier 1</td>\n",
       "      <td>Medium</td>\n",
       "      <td>Supermarket Type1</td>\n",
       "      <td>145.4786</td>\n",
       "      <td>5.0</td>\n",
       "    </tr>\n",
       "    <tr>\n",
       "      <th>1</th>\n",
       "      <td>Low Fat</td>\n",
       "      <td>Health and Hygiene</td>\n",
       "      <td>2022</td>\n",
       "      <td>Tier 3</td>\n",
       "      <td>Medium</td>\n",
       "      <td>Supermarket Type2</td>\n",
       "      <td>115.3492</td>\n",
       "      <td>5.0</td>\n",
       "    </tr>\n",
       "    <tr>\n",
       "      <th>2</th>\n",
       "      <td>Regular</td>\n",
       "      <td>Frozen Foods</td>\n",
       "      <td>2016</td>\n",
       "      <td>Tier 1</td>\n",
       "      <td>Small</td>\n",
       "      <td>Supermarket Type1</td>\n",
       "      <td>165.0210</td>\n",
       "      <td>5.0</td>\n",
       "    </tr>\n",
       "    <tr>\n",
       "      <th>3</th>\n",
       "      <td>Regular</td>\n",
       "      <td>Canned</td>\n",
       "      <td>2014</td>\n",
       "      <td>Tier 3</td>\n",
       "      <td>High</td>\n",
       "      <td>Supermarket Type1</td>\n",
       "      <td>126.5046</td>\n",
       "      <td>5.0</td>\n",
       "    </tr>\n",
       "    <tr>\n",
       "      <th>4</th>\n",
       "      <td>Low Fat</td>\n",
       "      <td>Soft Drinks</td>\n",
       "      <td>2015</td>\n",
       "      <td>Tier 2</td>\n",
       "      <td>Small</td>\n",
       "      <td>Supermarket Type1</td>\n",
       "      <td>55.1614</td>\n",
       "      <td>5.0</td>\n",
       "    </tr>\n",
       "    <tr>\n",
       "      <th>...</th>\n",
       "      <td>...</td>\n",
       "      <td>...</td>\n",
       "      <td>...</td>\n",
       "      <td>...</td>\n",
       "      <td>...</td>\n",
       "      <td>...</td>\n",
       "      <td>...</td>\n",
       "      <td>...</td>\n",
       "    </tr>\n",
       "    <tr>\n",
       "      <th>8518</th>\n",
       "      <td>Low Fat</td>\n",
       "      <td>Health and Hygiene</td>\n",
       "      <td>2018</td>\n",
       "      <td>Tier 3</td>\n",
       "      <td>Medium</td>\n",
       "      <td>Supermarket Type3</td>\n",
       "      <td>164.5526</td>\n",
       "      <td>4.0</td>\n",
       "    </tr>\n",
       "    <tr>\n",
       "      <th>8519</th>\n",
       "      <td>Low Fat</td>\n",
       "      <td>Snack Foods</td>\n",
       "      <td>2018</td>\n",
       "      <td>Tier 3</td>\n",
       "      <td>Medium</td>\n",
       "      <td>Supermarket Type3</td>\n",
       "      <td>241.6828</td>\n",
       "      <td>4.0</td>\n",
       "    </tr>\n",
       "    <tr>\n",
       "      <th>8520</th>\n",
       "      <td>Low Fat</td>\n",
       "      <td>Soft Drinks</td>\n",
       "      <td>2018</td>\n",
       "      <td>Tier 3</td>\n",
       "      <td>Medium</td>\n",
       "      <td>Supermarket Type3</td>\n",
       "      <td>86.6198</td>\n",
       "      <td>4.0</td>\n",
       "    </tr>\n",
       "    <tr>\n",
       "      <th>8521</th>\n",
       "      <td>Regular</td>\n",
       "      <td>Dairy</td>\n",
       "      <td>2018</td>\n",
       "      <td>Tier 3</td>\n",
       "      <td>Medium</td>\n",
       "      <td>Supermarket Type3</td>\n",
       "      <td>97.8752</td>\n",
       "      <td>4.0</td>\n",
       "    </tr>\n",
       "    <tr>\n",
       "      <th>8522</th>\n",
       "      <td>Regular</td>\n",
       "      <td>Snack Foods</td>\n",
       "      <td>2018</td>\n",
       "      <td>Tier 3</td>\n",
       "      <td>Medium</td>\n",
       "      <td>Supermarket Type3</td>\n",
       "      <td>112.2544</td>\n",
       "      <td>4.0</td>\n",
       "    </tr>\n",
       "  </tbody>\n",
       "</table>\n",
       "<p>8523 rows × 8 columns</p>\n",
       "</div>"
      ],
      "text/plain": [
       "     Item Fat Content              Item Type  Outlet Establishment Year  \\\n",
       "0             Regular  Fruits and Vegetables                       2012   \n",
       "1             Low Fat     Health and Hygiene                       2022   \n",
       "2             Regular           Frozen Foods                       2016   \n",
       "3             Regular                 Canned                       2014   \n",
       "4             Low Fat            Soft Drinks                       2015   \n",
       "...               ...                    ...                        ...   \n",
       "8518          Low Fat     Health and Hygiene                       2018   \n",
       "8519          Low Fat            Snack Foods                       2018   \n",
       "8520          Low Fat            Soft Drinks                       2018   \n",
       "8521          Regular                  Dairy                       2018   \n",
       "8522          Regular            Snack Foods                       2018   \n",
       "\n",
       "     Outlet Location Type Outlet Size        Outlet Type     Sales  Rating  \n",
       "0                  Tier 1      Medium  Supermarket Type1  145.4786     5.0  \n",
       "1                  Tier 3      Medium  Supermarket Type2  115.3492     5.0  \n",
       "2                  Tier 1       Small  Supermarket Type1  165.0210     5.0  \n",
       "3                  Tier 3        High  Supermarket Type1  126.5046     5.0  \n",
       "4                  Tier 2       Small  Supermarket Type1   55.1614     5.0  \n",
       "...                   ...         ...                ...       ...     ...  \n",
       "8518               Tier 3      Medium  Supermarket Type3  164.5526     4.0  \n",
       "8519               Tier 3      Medium  Supermarket Type3  241.6828     4.0  \n",
       "8520               Tier 3      Medium  Supermarket Type3   86.6198     4.0  \n",
       "8521               Tier 3      Medium  Supermarket Type3   97.8752     4.0  \n",
       "8522               Tier 3      Medium  Supermarket Type3  112.2544     4.0  \n",
       "\n",
       "[8523 rows x 8 columns]"
      ]
     },
     "execution_count": 4,
     "metadata": {},
     "output_type": "execute_result"
    }
   ],
   "source": [
    "blink"
   ]
  },
  {
   "cell_type": "markdown",
   "id": "34cfb50f-bec3-43f4-9785-04b6c9800671",
   "metadata": {},
   "source": [
    "# 6. Data Analysis"
   ]
  },
  {
   "cell_type": "markdown",
   "id": "c03ce544-cced-4c18-8580-8e30dda5ddc8",
   "metadata": {},
   "source": [
    "## 1. Analyze most item , most sale and average rating by fat content."
   ]
  },
  {
   "cell_type": "code",
   "execution_count": 5,
   "id": "cdb70b0e-01f3-47f6-80d3-9b7fe1a87683",
   "metadata": {},
   "outputs": [
    {
     "data": {
      "text/plain": [
       "count        8523\n",
       "unique          2\n",
       "top       Low Fat\n",
       "freq         5517\n",
       "Name: Item Fat Content, dtype: object"
      ]
     },
     "execution_count": 5,
     "metadata": {},
     "output_type": "execute_result"
    }
   ],
   "source": [
    "blink[\"Item Fat Content\"].describe()"
   ]
  },
  {
   "cell_type": "code",
   "execution_count": 6,
   "id": "06f2cfdf-cc13-4e52-b637-1479f50154ed",
   "metadata": {},
   "outputs": [
    {
     "data": {
      "text/plain": [
       "Item Fat Content\n",
       "Low Fat    5517\n",
       "Regular    3006\n",
       "Name: count, dtype: int64"
      ]
     },
     "execution_count": 6,
     "metadata": {},
     "output_type": "execute_result"
    }
   ],
   "source": [
    "blink[\"Item Fat Content\"].value_counts()"
   ]
  },
  {
   "cell_type": "code",
   "execution_count": 7,
   "id": "17825cb5-14db-4d23-bd91-44a1da7aff60",
   "metadata": {},
   "outputs": [
    {
     "data": {
      "text/plain": [
       "Item Fat Content\n",
       "Low Fat    776319.6884\n",
       "Regular    425361.8044\n",
       "Name: Sales, dtype: float64"
      ]
     },
     "execution_count": 7,
     "metadata": {},
     "output_type": "execute_result"
    }
   ],
   "source": [
    "blink.groupby([\"Item Fat Content\"])[\"Sales\"].sum()"
   ]
  },
  {
   "cell_type": "code",
   "execution_count": 8,
   "id": "d1dc3ef6-521e-49ba-a513-5cfab75c368d",
   "metadata": {},
   "outputs": [
    {
     "data": {
      "text/plain": [
       "Item Fat Content\n",
       "Low Fat    3.966286\n",
       "Regular    3.965070\n",
       "Name: Rating, dtype: float64"
      ]
     },
     "execution_count": 8,
     "metadata": {},
     "output_type": "execute_result"
    }
   ],
   "source": [
    "blink.groupby([\"Item Fat Content\"])[\"Rating\"].mean()"
   ]
  },
  {
   "cell_type": "code",
   "execution_count": 9,
   "id": "18d69e30-fbd1-4046-95bc-0396372acd39",
   "metadata": {},
   "outputs": [
    {
     "data": {
      "text/plain": [
       "Item Fat Content  Outlet Establishment Year\n",
       "Low Fat           2018                         951\n",
       "                  2015                         609\n",
       "                  2014                         606\n",
       "                  2017                         606\n",
       "                  2016                         598\n",
       "                  2022                         598\n",
       "                  2012                         596\n",
       "                  2020                         594\n",
       "                  2011                         359\n",
       "Regular           2018                         512\n",
       "                  2012                         334\n",
       "                  2016                         332\n",
       "                  2020                         332\n",
       "                  2022                         330\n",
       "                  2014                         326\n",
       "                  2017                         324\n",
       "                  2015                         320\n",
       "                  2011                         196\n",
       "Name: count, dtype: int64"
      ]
     },
     "execution_count": 9,
     "metadata": {},
     "output_type": "execute_result"
    }
   ],
   "source": [
    "blink.groupby([\"Item Fat Content\"])[\"Outlet Establishment Year\"].value_counts()"
   ]
  },
  {
   "cell_type": "markdown",
   "id": "200a04f9-9b21-45ee-af86-e52e6cd4cac2",
   "metadata": {},
   "source": [
    "#### Observation"
   ]
  },
  {
   "cell_type": "markdown",
   "id": "6d4d6b70-a464-43f0-9255-7f58b997b4aa",
   "metadata": {},
   "source": [
    "- Here most number of items has the low fat.\n",
    "- Here most sales has made for low fat.\n",
    "- Average rating for low fat is highest.\n",
    "- Items that sold the most in a single year which is Low fat in 2018."
   ]
  },
  {
   "cell_type": "code",
   "execution_count": null,
   "id": "070f03fa-e02d-4c5c-9726-a93567474009",
   "metadata": {},
   "outputs": [],
   "source": []
  },
  {
   "cell_type": "markdown",
   "id": "29c188a9-bd89-4d83-8afc-a34529999de1",
   "metadata": {},
   "source": [
    "## 2. Analyze most item sold and average rating by item type."
   ]
  },
  {
   "cell_type": "code",
   "execution_count": 10,
   "id": "fb50846b-d6ae-40d9-ae11-40e9e50db1b3",
   "metadata": {},
   "outputs": [
    {
     "data": {
      "text/plain": [
       "Item Type\n",
       "Fruits and Vegetables    1232\n",
       "Snack Foods              1200\n",
       "Household                 910\n",
       "Frozen Foods              856\n",
       "Dairy                     682\n",
       "Canned                    649\n",
       "Baking Goods              648\n",
       "Health and Hygiene        520\n",
       "Soft Drinks               445\n",
       "Meat                      425\n",
       "Breads                    251\n",
       "Hard Drinks               214\n",
       "Others                    169\n",
       "Starchy Foods             148\n",
       "Breakfast                 110\n",
       "Seafood                    64\n",
       "Name: count, dtype: int64"
      ]
     },
     "execution_count": 10,
     "metadata": {},
     "output_type": "execute_result"
    }
   ],
   "source": [
    "blink[\"Item Type\"].value_counts()"
   ]
  },
  {
   "cell_type": "code",
   "execution_count": 11,
   "id": "54ac4723-aded-45eb-b7b1-cb16e384cc23",
   "metadata": {},
   "outputs": [
    {
     "data": {
      "text/plain": [
       "Item Type\n",
       "Baking Goods             3.983025\n",
       "Breads                   3.881275\n",
       "Breakfast                3.932727\n",
       "Canned                   3.994299\n",
       "Dairy                    3.965836\n",
       "Frozen Foods             3.971145\n",
       "Fruits and Vegetables    3.956169\n",
       "Hard Drinks              3.907477\n",
       "Health and Hygiene       3.986154\n",
       "Household                3.998681\n",
       "Meat                     4.023059\n",
       "Others                   3.954438\n",
       "Seafood                  3.959375\n",
       "Snack Foods              3.948917\n",
       "Soft Drinks              3.920674\n",
       "Starchy Foods            3.920270\n",
       "Name: Rating, dtype: float64"
      ]
     },
     "execution_count": 11,
     "metadata": {},
     "output_type": "execute_result"
    }
   ],
   "source": [
    "blink.groupby([\"Item Type\"])[\"Rating\"].mean()"
   ]
  },
  {
   "cell_type": "code",
   "execution_count": 12,
   "id": "e556ffec-9330-41c0-a3cf-d52b2f23b90f",
   "metadata": {},
   "outputs": [
    {
     "data": {
      "text/plain": [
       "Item Type\n",
       "Baking Goods              81894.7364\n",
       "Breads                    35379.1198\n",
       "Breakfast                 15596.6966\n",
       "Canned                    90706.7290\n",
       "Dairy                    101276.4616\n",
       "Frozen Foods             118558.8814\n",
       "Fruits and Vegetables    178124.0810\n",
       "Hard Drinks               29334.6806\n",
       "Health and Hygiene        68025.8388\n",
       "Household                135976.5254\n",
       "Meat                      59449.8638\n",
       "Others                    22451.8916\n",
       "Seafood                    9077.8700\n",
       "Snack Foods              175433.9224\n",
       "Soft Drinks               58514.1670\n",
       "Starchy Foods             21880.0274\n",
       "Name: Sales, dtype: float64"
      ]
     },
     "execution_count": 12,
     "metadata": {},
     "output_type": "execute_result"
    }
   ],
   "source": [
    "blink.groupby([\"Item Type\"])[\"Sales\"].sum()"
   ]
  },
  {
   "cell_type": "markdown",
   "id": "859614df-f828-4e99-b812-5a48f63a1d77",
   "metadata": {},
   "source": [
    "### Observation"
   ]
  },
  {
   "cell_type": "markdown",
   "id": "ea6a58a3-9dac-4cc9-8182-f289333f8411",
   "metadata": {},
   "source": [
    "- Here Fruits and vegetable are sold the most.\n",
    "- Meat has the most average rating."
   ]
  },
  {
   "cell_type": "code",
   "execution_count": null,
   "id": "7543ca43-1a69-4b35-8420-6c383e5eb42a",
   "metadata": {},
   "outputs": [],
   "source": []
  },
  {
   "cell_type": "markdown",
   "id": "bafc09bd-81ca-489a-b591-6a89bfa76425",
   "metadata": {},
   "source": [
    "## 3. Analyze total sales by year."
   ]
  },
  {
   "cell_type": "code",
   "execution_count": 13,
   "id": "f8d24010-fd24-4009-b3ff-3bfb30dd4344",
   "metadata": {},
   "outputs": [
    {
     "data": {
      "text/plain": [
       "Outlet Establishment Year\n",
       "2011     78131.5666\n",
       "2012    130476.8598\n",
       "2014    131809.0156\n",
       "2015    130942.7802\n",
       "2016    132113.3698\n",
       "2017    133103.9070\n",
       "2018    204522.2570\n",
       "2020    129103.9604\n",
       "2022    131477.7764\n",
       "Name: Sales, dtype: float64"
      ]
     },
     "execution_count": 13,
     "metadata": {},
     "output_type": "execute_result"
    }
   ],
   "source": [
    "blink.groupby([\"Outlet Establishment Year\"])[\"Sales\"].sum()"
   ]
  },
  {
   "cell_type": "code",
   "execution_count": 14,
   "id": "b92110e0-99a5-4fba-bc88-c517f86168c3",
   "metadata": {},
   "outputs": [
    {
     "data": {
      "text/plain": [
       "Outlet Establishment Year\n",
       "2011    3.977117\n",
       "2012    3.985484\n",
       "2014    3.949571\n",
       "2015    3.959957\n",
       "2016    3.958387\n",
       "2017    3.944516\n",
       "2018    3.968148\n",
       "2020    3.981641\n",
       "2022    3.971228\n",
       "Name: Rating, dtype: float64"
      ]
     },
     "execution_count": 14,
     "metadata": {},
     "output_type": "execute_result"
    }
   ],
   "source": [
    "blink.groupby([\"Outlet Establishment Year\"])[\"Rating\"].mean()"
   ]
  },
  {
   "cell_type": "markdown",
   "id": "00158457-4080-4cb9-9368-7aaa5f4b960a",
   "metadata": {},
   "source": [
    "### Observation"
   ]
  },
  {
   "cell_type": "markdown",
   "id": "9d4e7196-77c6-4be3-abd6-ffd2311b6a77",
   "metadata": {},
   "source": [
    "- The sales are high in 2018.\n",
    "- Average rating is high in 2012"
   ]
  },
  {
   "cell_type": "code",
   "execution_count": null,
   "id": "e6a9356e-83b8-46bc-b72b-3dc86c0cdddb",
   "metadata": {},
   "outputs": [],
   "source": []
  },
  {
   "cell_type": "markdown",
   "id": "f36385a0-527f-4402-99a6-b609127d1e65",
   "metadata": {},
   "source": [
    "## 4. Analyze the sales and average rating by outlet location type."
   ]
  },
  {
   "cell_type": "code",
   "execution_count": 15,
   "id": "9e4c638b-81f7-48df-a62b-3af47975d5e6",
   "metadata": {},
   "outputs": [
    {
     "data": {
      "text/plain": [
       "Outlet Location Type\n",
       "Tier 1    336397.8120\n",
       "Tier 2    393150.6476\n",
       "Tier 3    472133.0332\n",
       "Name: Sales, dtype: float64"
      ]
     },
     "execution_count": 15,
     "metadata": {},
     "output_type": "execute_result"
    }
   ],
   "source": [
    "blink.groupby([\"Outlet Location Type\"])[\"Sales\"].sum()"
   ]
  },
  {
   "cell_type": "code",
   "execution_count": 16,
   "id": "0657304b-d2be-42c6-9f60-21ef6b655613",
   "metadata": {},
   "outputs": [
    {
     "data": {
      "text/plain": [
       "Outlet Location Type\n",
       "Tier 1    3.977052\n",
       "Tier 2    3.962011\n",
       "Tier 3    3.961075\n",
       "Name: Rating, dtype: float64"
      ]
     },
     "execution_count": 16,
     "metadata": {},
     "output_type": "execute_result"
    }
   ],
   "source": [
    "blink.groupby([\"Outlet Location Type\"])[\"Rating\"].mean()"
   ]
  },
  {
   "cell_type": "markdown",
   "id": "27561787-f408-4c91-8050-980a18822fb9",
   "metadata": {},
   "source": [
    "### Observation"
   ]
  },
  {
   "cell_type": "markdown",
   "id": "81b3fc95-a6b7-40a3-88f4-1bbc56fd49f6",
   "metadata": {},
   "source": [
    "- In tier 3 locations the sales is high.\n",
    "- In tier 2 the average sales is high. "
   ]
  },
  {
   "cell_type": "code",
   "execution_count": null,
   "id": "a0c66789-7f7f-4232-bc30-0d2d9dfd084c",
   "metadata": {},
   "outputs": [],
   "source": []
  },
  {
   "cell_type": "markdown",
   "id": "19e6af9c-d167-4838-980a-13002170f030",
   "metadata": {},
   "source": [
    "## 5. Analyze the sales and average rating by outlet size."
   ]
  },
  {
   "cell_type": "code",
   "execution_count": 17,
   "id": "aaf76870-4920-4b92-93b4-7969eea6b795",
   "metadata": {},
   "outputs": [
    {
     "data": {
      "text/plain": [
       "Outlet Size\n",
       "High      248991.5860\n",
       "Medium    507895.7364\n",
       "Small     444794.1704\n",
       "Name: Sales, dtype: float64"
      ]
     },
     "execution_count": 17,
     "metadata": {},
     "output_type": "execute_result"
    }
   ],
   "source": [
    "blink.groupby([\"Outlet Size\"])[\"Sales\"].sum()"
   ]
  },
  {
   "cell_type": "code",
   "execution_count": 18,
   "id": "84e9befa-b924-474f-bc88-d9a4b9d0c9f7",
   "metadata": {},
   "outputs": [
    {
     "data": {
      "text/plain": [
       "Outlet Size\n",
       "High      3.945351\n",
       "Medium    3.977417\n",
       "Small     3.963938\n",
       "Name: Rating, dtype: float64"
      ]
     },
     "execution_count": 18,
     "metadata": {},
     "output_type": "execute_result"
    }
   ],
   "source": [
    "blink.groupby([\"Outlet Size\"])[\"Rating\"].mean()"
   ]
  },
  {
   "cell_type": "markdown",
   "id": "3e59bc58-37ae-4b80-984f-7174ad6eb0a9",
   "metadata": {},
   "source": [
    "### Observation"
   ]
  },
  {
   "cell_type": "markdown",
   "id": "b3427a77-c157-43d4-bffa-2bb7aa6ae8e2",
   "metadata": {},
   "source": [
    "- Medium size outlets has the most sales.\n",
    "- Medium size outlets has the highest average rating."
   ]
  },
  {
   "cell_type": "code",
   "execution_count": null,
   "id": "689211af-2222-4121-98b0-7dd0a0ad99f7",
   "metadata": {},
   "outputs": [],
   "source": []
  },
  {
   "cell_type": "markdown",
   "id": "18a2c58d-14f5-4468-8598-8b822614d143",
   "metadata": {},
   "source": [
    "## 6. Analyze the sales and average rating by outlet type."
   ]
  },
  {
   "cell_type": "code",
   "execution_count": 19,
   "id": "b2535906-527d-49bb-9f14-7afca549c186",
   "metadata": {},
   "outputs": [
    {
     "data": {
      "text/plain": [
       "Outlet Type\n",
       "Grocery Store        151939.1490\n",
       "Supermarket Type1    787549.8928\n",
       "Supermarket Type2    131477.7764\n",
       "Supermarket Type3    130714.6746\n",
       "Name: Sales, dtype: float64"
      ]
     },
     "execution_count": 19,
     "metadata": {},
     "output_type": "execute_result"
    }
   ],
   "source": [
    "blink.groupby([\"Outlet Type\"])[\"Sales\"].sum()"
   ]
  },
  {
   "cell_type": "code",
   "execution_count": 20,
   "id": "5e5338df-520f-4d49-9523-9d927f4f3b84",
   "metadata": {},
   "outputs": [
    {
     "data": {
      "text/plain": [
       "Outlet Type\n",
       "Grocery Store        3.985873\n",
       "Supermarket Type1    3.963242\n",
       "Supermarket Type2    3.971228\n",
       "Supermarket Type3    3.952941\n",
       "Name: Rating, dtype: float64"
      ]
     },
     "execution_count": 20,
     "metadata": {},
     "output_type": "execute_result"
    }
   ],
   "source": [
    "blink.groupby([\"Outlet Type\"])[\"Rating\"].mean()"
   ]
  },
  {
   "cell_type": "markdown",
   "id": "b6592688-020d-4ed5-9c11-e223704dd4c1",
   "metadata": {},
   "source": [
    "## Observation"
   ]
  },
  {
   "cell_type": "markdown",
   "id": "ac52ebbf-2b77-4e8d-a784-5f184f9b2086",
   "metadata": {},
   "source": [
    "- Supermarket Type 2 has the most sales.\n",
    "- Grocery Stores has the highest average rating."
   ]
  },
  {
   "cell_type": "markdown",
   "id": "7be5961e-5af5-475d-b483-eb1e7bcfbdb4",
   "metadata": {},
   "source": []
  },
  {
   "cell_type": "markdown",
   "id": "b1536931-0f37-4da2-8336-777c80884074",
   "metadata": {},
   "source": [
    "# 7. Analyze the sales."
   ]
  },
  {
   "cell_type": "code",
   "execution_count": 25,
   "id": "8aefee61-3eae-4338-8480-9293c0857dc3",
   "metadata": {},
   "outputs": [
    {
     "data": {
      "text/plain": [
       "1201681.4928"
      ]
     },
     "execution_count": 25,
     "metadata": {},
     "output_type": "execute_result"
    }
   ],
   "source": [
    "blink[\"Sales\"].sum()"
   ]
  },
  {
   "cell_type": "code",
   "execution_count": 24,
   "id": "6095fd56-b07f-4fa6-9af7-faee2a06f03b",
   "metadata": {},
   "outputs": [
    {
     "data": {
      "text/plain": [
       "140.99278338613163"
      ]
     },
     "execution_count": 24,
     "metadata": {},
     "output_type": "execute_result"
    }
   ],
   "source": [
    "blink[\"Sales\"].mean()"
   ]
  },
  {
   "cell_type": "code",
   "execution_count": null,
   "id": "68e6a5de-d88e-4d3a-8a5d-0c1709ed06c2",
   "metadata": {},
   "outputs": [],
   "source": []
  }
 ],
 "metadata": {
  "kernelspec": {
   "display_name": "Python 3 (ipykernel)",
   "language": "python",
   "name": "python3"
  },
  "language_info": {
   "codemirror_mode": {
    "name": "ipython",
    "version": 3
   },
   "file_extension": ".py",
   "mimetype": "text/x-python",
   "name": "python",
   "nbconvert_exporter": "python",
   "pygments_lexer": "ipython3",
   "version": "3.12.4"
  }
 },
 "nbformat": 4,
 "nbformat_minor": 5
}
